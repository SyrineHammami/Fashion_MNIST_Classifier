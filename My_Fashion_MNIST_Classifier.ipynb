{
  "cells": [
    {
      "cell_type": "markdown",
      "metadata": {
        "id": "view-in-github",
        "colab_type": "text"
      },
      "source": [
        "<a href=\"https://colab.research.google.com/github/SyrineHammami/Fashion_MNIST_Classifier/blob/main/My_Fashion_MNIST_Classifier.ipynb\" target=\"_parent\"><img src=\"https://colab.research.google.com/assets/colab-badge.svg\" alt=\"Open In Colab\"/></a>"
      ]
    },
    {
      "cell_type": "markdown",
      "metadata": {
        "id": "iQjHqsmTAVLU"
      },
      "source": [
        "## Fashion MNIST\n",
        "In the videos you looked at how you would improve Fashion MNIST using Convolutions. For your exercise see if you can improve MNIST to 99.8% accuracy or more using only a single convolutional layer and a single MaxPooling 2D. You should stop training once the accuracy goes above this amount. It should happen in less than 20 epochs, so it's ok to hard code the number of epochs for training, but your training must end once it hits the above metric. If it doesn't, then you'll need to redesign your layers.\n",
        "\n",
        "I've started the code for you -- you need to finish it!\n",
        "\n",
        "When 99.8% accuracy has been hit, you should print out the string \"Reached 99.8% accuracy so cancelling training!\"\n"
      ]
    },
    {
      "cell_type": "code",
      "execution_count": null,
      "metadata": {
        "id": "27nNgL4MCHLU"
      },
      "outputs": [],
      "source": [
        "import tensorflow as tf\n",
        "from os import path, getcwd, chdir\n",
        "\n",
        "# DO NOT CHANGE THE LINE BELOW. If you are developing in a local\n",
        "# environment, then grab mnist.npz from the Coursera Jupyter Notebook\n",
        "# and place it inside a local folder and edit the path to that location\n",
        "path = f\"{getcwd()}/../content/mnist.npz\""
      ]
    },
    {
      "cell_type": "code",
      "execution_count": null,
      "metadata": {
        "id": "CVsgK4NSCHLV"
      },
      "outputs": [],
      "source": [
        "\"\"\"config = tf.ConfigProto()\n",
        "\n",
        "config.gpu_options.allow_growth = True\n",
        "sess = tf.Session(config=config) \"\"\""
      ]
    },
    {
      "cell_type": "code",
      "execution_count": null,
      "metadata": {
        "id": "Ej0ENMDBCHLW"
      },
      "outputs": [],
      "source": [
        "# GRADED FUNCTION: train_mnist_conv\n",
        "def train_mnist_conv():\n",
        "    # Please write your code only where you are indicated.\n",
        "    # please do not remove model fitting inline comments.\n",
        "\n",
        "    # YOUR CODE STARTS HERE\n",
        "    class mycallback (tf.keras.callbacks.Callback) : \n",
        "        def on_epoch_end (self , epoch , logs={}) : \n",
        "            if (logs.get('accuracy') is not None and logs.get(\"accuracy\") > 0.998) : \n",
        "                print(\"\\n Reached 99.8% accuracy so cancelling training!\")\n",
        "                self.model.stop_training=True \n",
        "    \n",
        "    # YOUR CODE ENDS HERE\n",
        "    mycallback1=mycallback() \n",
        "    mnist = tf.keras.datasets.mnist\n",
        "    (training_images, training_labels), (test_images, test_labels) = mnist.load_data(path=path)\n",
        "    # YOUR CODE STARTS HERE\n",
        "    print(\" \\n before reshaping\") \n",
        "    print(training_images.shape) \n",
        "    print (test_images.shape)\n",
        "    training_images=training_images.reshape(60000 , 28 ,28 ,1) \n",
        "    test_images=test_images.reshape(10000 , 28 ,28 ,1) \n",
        "    print(\" \\n after reshaping\") \n",
        "    print(training_images.shape) \n",
        "    print (test_images.shape)\n",
        "    training_images = training_images / 255.0 \n",
        "    test_images = test_images / 255.0 \n",
        "    \n",
        "    # YOUR CODE ENDS HERE\n",
        "\n",
        "    model = tf.keras.models.Sequential([\n",
        "            # YOUR CODE STARTS HERE\n",
        "            # Try to simplify the architecture as much as possible. You can reach the target accuracy\n",
        "            # with just a single convolution and max pooling followed by the usual flatten and dense layers.\n",
        "            # If you get grader timeouts in your submission, try to minimize the number of convolution filters \n",
        "            # and dense units.\n",
        "\n",
        "            tf.keras.layers.Conv2D(32 , (3,3) , activation=\"relu\" , input_shape=(28,28,1)) , \n",
        "            tf.keras.layers.MaxPooling2D (2,2) , \n",
        "            tf.keras.layers.Flatten() , \n",
        "            tf.keras.layers.Dense (128 , activation='relu') , \n",
        "            tf.keras.layers.Dense (10 , activation=\"softmax\")\n",
        "    ])\n",
        "    model.summary()\n",
        "    model.compile(optimizer='adam', loss='sparse_categorical_crossentropy', metrics=['accuracy'])\n",
        "    # model fitting\n",
        "    history = model.fit( training_images , training_labels , epochs=20 , callbacks=[mycallback1] )\n",
        "        # YOUR CODE STARTS HERE\n",
        "        # Remember to set a callback function to stop the training when the target accuracy is reached. \n",
        "        # It should be met in less than 20 epochs.\n",
        "\n",
        "        # YOUR CODE ENDS HERE\n",
        "    \n",
        "    # model fitting\n",
        "    return history.epoch, history.history['accuracy'][-1]\n",
        "\n"
      ]
    },
    {
      "cell_type": "code",
      "execution_count": null,
      "metadata": {
        "id": "wInOyVxVCHLX"
      },
      "outputs": [],
      "source": [
        "_, _ = train_mnist_conv()"
      ]
    },
    {
      "cell_type": "code",
      "execution_count": null,
      "metadata": {
        "id": "kiGaDUGkCHLY"
      },
      "outputs": [],
      "source": [
        "# Now click the 'Submit Assignment' button above.\n",
        "# Once that is complete, please run the following two cells to save your work and close the notebook"
      ]
    },
    {
      "cell_type": "code",
      "execution_count": null,
      "metadata": {
        "id": "0hcUbi-fCHLZ"
      },
      "outputs": [],
      "source": [
        "%%javascript\n",
        "<!-- Save the notebook -->\n",
        "IPython.notebook.save_checkpoint();"
      ]
    },
    {
      "cell_type": "code",
      "execution_count": null,
      "metadata": {
        "id": "z713zYOLCHLa"
      },
      "outputs": [],
      "source": [
        "%%javascript\n",
        "IPython.notebook.session.delete();\n",
        "window.onbeforeunload = null\n",
        "setTimeout(function() { window.close(); }, 1000);"
      ]
    }
  ],
  "metadata": {
    "coursera": {
      "course_slug": "introduction-tensorflow",
      "graded_item_id": "ml06H",
      "launcher_item_id": "hQF8A"
    },
    "kernelspec": {
      "display_name": "Python 3",
      "language": "python",
      "name": "python3"
    },
    "language_info": {
      "codemirror_mode": {
        "name": "ipython",
        "version": 3
      },
      "file_extension": ".py",
      "mimetype": "text/x-python",
      "name": "python",
      "nbconvert_exporter": "python",
      "pygments_lexer": "ipython3",
      "version": "3.6.8"
    },
    "colab": {
      "name": "My_Fashion_MNIST_Classifier.ipynb",
      "provenance": [],
      "include_colab_link": true
    }
  },
  "nbformat": 4,
  "nbformat_minor": 0
}